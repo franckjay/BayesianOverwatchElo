{
 "cells": [
  {
   "cell_type": "code",
   "execution_count": 1,
   "metadata": {
    "_uuid": "a3e9c6da6470fe1ec0596ebba0011b76a25158cd"
   },
   "outputs": [
    {
     "name": "stdout",
     "output_type": "stream",
     "text": [
      "['Playoffs.csv', 'playoff_win_loss.csv', 'regular_season.csv', 'regular_season', 'overwatch', 'Playoffs', 'regular_season_win_loss.csv']\n"
     ]
    }
   ],
   "source": [
    "from sklearn.metrics import roc_auc_score# This Python 3 environment comes with many helpful analytics libraries installed\n",
    "# It is defined by the kaggle/python docker image: https://github.com/kaggle/docker-python\n",
    "# For example, here's several helpful packages to load in \n",
    "\n",
    "import numpy as np # linear algebra\n",
    "import pandas as pd # data processing, CSV file I/O (e.g. pd.read_csv)\n",
    "\n",
    "# Input data files are available in the \"../input/\" directory.\n",
    "# For example, running this (by clicking run or pressing Shift+Enter) will list the files in the input directory\n",
    "\n",
    "import os\n",
    "print(os.listdir(\"../input\"))\n",
    "from sklearn.metrics import roc_auc_score, accuracy_score\n",
    "# Any results you write to the current directory are saved as output."
   ]
  },
  {
   "cell_type": "code",
   "execution_count": 2,
   "metadata": {
    "_uuid": "5289aabd1ee78b49d3ba09806b6f7f52b85b82c7"
   },
   "outputs": [
    {
     "name": "stderr",
     "output_type": "stream",
     "text": [
      "WARNING (theano.tensor.blas): Using NumPy C-API based implementation for BLAS functions.\n"
     ]
    }
   ],
   "source": [
    "import theano\n",
    "\n",
    "def Logistic_Rating(rating):\n",
    "    return 10.0**(rating/400)\n",
    "\n",
    "def Expected(rating1, rating2):\n",
    "    \"\"\"\n",
    "    These should be Logistic Ratings\n",
    "    \"\"\"\n",
    "    log_rating1 = Logistic_Rating(rating1)\n",
    "    log_rating2 = Logistic_Rating(rating2)\n",
    "    return log_rating1/(log_rating1+log_rating2)\n",
    "\n",
    "def Update_Rating(rating1, K, S, E):\n",
    "    \"\"\"\n",
    "    rating1: rating should be the r\n",
    "    K : Scaling factor between 1,99\n",
    "    S : Outcome of game [0,1]\n",
    "    E : Expected Outcome of the game\n",
    "    \"\"\"\n",
    "    return rating1 + K*(S-E)"
   ]
  },
  {
   "cell_type": "code",
   "execution_count": 3,
   "metadata": {
    "_uuid": "8054d7d3ad9b418317f1112b1fe3a4e9a5cf62cb"
   },
   "outputs": [
    {
     "data": {
      "text/html": [
       "<div>\n",
       "<style scoped>\n",
       "    .dataframe tbody tr th:only-of-type {\n",
       "        vertical-align: middle;\n",
       "    }\n",
       "\n",
       "    .dataframe tbody tr th {\n",
       "        vertical-align: top;\n",
       "    }\n",
       "\n",
       "    .dataframe thead th {\n",
       "        text-align: right;\n",
       "    }\n",
       "</style>\n",
       "<table border=\"1\" class=\"dataframe\">\n",
       "  <thead>\n",
       "    <tr style=\"text-align: right;\">\n",
       "      <th></th>\n",
       "      <th>Win</th>\n",
       "      <th>Lose</th>\n",
       "    </tr>\n",
       "  </thead>\n",
       "  <tbody>\n",
       "    <tr>\n",
       "      <th>0</th>\n",
       "      <td>Florida Mayhem</td>\n",
       "      <td>San Francisco Shock</td>\n",
       "    </tr>\n",
       "    <tr>\n",
       "      <th>1</th>\n",
       "      <td>San Francisco Shock</td>\n",
       "      <td>Florida Mayhem</td>\n",
       "    </tr>\n",
       "    <tr>\n",
       "      <th>2</th>\n",
       "      <td>San Francisco Shock</td>\n",
       "      <td>Florida Mayhem</td>\n",
       "    </tr>\n",
       "    <tr>\n",
       "      <th>3</th>\n",
       "      <td>San Francisco Shock</td>\n",
       "      <td>Florida Mayhem</td>\n",
       "    </tr>\n",
       "    <tr>\n",
       "      <th>4</th>\n",
       "      <td>Los Angeles Valiant</td>\n",
       "      <td>San Francisco Shock</td>\n",
       "    </tr>\n",
       "  </tbody>\n",
       "</table>\n",
       "</div>"
      ],
      "text/plain": [
       "                   Win                 Lose\n",
       "0       Florida Mayhem  San Francisco Shock\n",
       "1  San Francisco Shock       Florida Mayhem\n",
       "2  San Francisco Shock       Florida Mayhem\n",
       "3  San Francisco Shock       Florida Mayhem\n",
       "4  Los Angeles Valiant  San Francisco Shock"
      ]
     },
     "execution_count": 3,
     "metadata": {},
     "output_type": "execute_result"
    }
   ],
   "source": [
    "regular_season = pd.read_csv('../input/regular_season_win_loss.csv')\n",
    "regular_season.head()                             "
   ]
  },
  {
   "cell_type": "code",
   "execution_count": 4,
   "metadata": {
    "_uuid": "bc10122e006b01e728553655dac429ef7d5b790e"
   },
   "outputs": [
    {
     "data": {
      "text/html": [
       "<div>\n",
       "<style scoped>\n",
       "    .dataframe tbody tr th:only-of-type {\n",
       "        vertical-align: middle;\n",
       "    }\n",
       "\n",
       "    .dataframe tbody tr th {\n",
       "        vertical-align: top;\n",
       "    }\n",
       "\n",
       "    .dataframe thead th {\n",
       "        text-align: right;\n",
       "    }\n",
       "</style>\n",
       "<table border=\"1\" class=\"dataframe\">\n",
       "  <thead>\n",
       "    <tr style=\"text-align: right;\">\n",
       "      <th></th>\n",
       "      <th>index</th>\n",
       "      <th>team</th>\n",
       "    </tr>\n",
       "  </thead>\n",
       "  <tbody>\n",
       "    <tr>\n",
       "      <th>0</th>\n",
       "      <td>0</td>\n",
       "      <td>Florida Mayhem</td>\n",
       "    </tr>\n",
       "    <tr>\n",
       "      <th>1</th>\n",
       "      <td>1</td>\n",
       "      <td>San Francisco Shock</td>\n",
       "    </tr>\n",
       "    <tr>\n",
       "      <th>2</th>\n",
       "      <td>2</td>\n",
       "      <td>Los Angeles Valiant</td>\n",
       "    </tr>\n",
       "    <tr>\n",
       "      <th>3</th>\n",
       "      <td>3</td>\n",
       "      <td>Seoul Dynasty</td>\n",
       "    </tr>\n",
       "    <tr>\n",
       "      <th>4</th>\n",
       "      <td>4</td>\n",
       "      <td>Los Angeles Gladiators</td>\n",
       "    </tr>\n",
       "    <tr>\n",
       "      <th>5</th>\n",
       "      <td>5</td>\n",
       "      <td>London Spitfire</td>\n",
       "    </tr>\n",
       "    <tr>\n",
       "      <th>6</th>\n",
       "      <td>6</td>\n",
       "      <td>Dallas Fuel</td>\n",
       "    </tr>\n",
       "    <tr>\n",
       "      <th>7</th>\n",
       "      <td>7</td>\n",
       "      <td>Houston Outlaws</td>\n",
       "    </tr>\n",
       "    <tr>\n",
       "      <th>8</th>\n",
       "      <td>8</td>\n",
       "      <td>New York Excelsior</td>\n",
       "    </tr>\n",
       "    <tr>\n",
       "      <th>9</th>\n",
       "      <td>9</td>\n",
       "      <td>Boston Uprising</td>\n",
       "    </tr>\n",
       "    <tr>\n",
       "      <th>10</th>\n",
       "      <td>10</td>\n",
       "      <td>Shanghai Dragons</td>\n",
       "    </tr>\n",
       "    <tr>\n",
       "      <th>11</th>\n",
       "      <td>11</td>\n",
       "      <td>Philadelphia Fusion</td>\n",
       "    </tr>\n",
       "  </tbody>\n",
       "</table>\n",
       "</div>"
      ],
      "text/plain": [
       "    index                    team\n",
       "0       0          Florida Mayhem\n",
       "1       1     San Francisco Shock\n",
       "2       2     Los Angeles Valiant\n",
       "3       3           Seoul Dynasty\n",
       "4       4  Los Angeles Gladiators\n",
       "5       5         London Spitfire\n",
       "6       6             Dallas Fuel\n",
       "7       7         Houston Outlaws\n",
       "8       8      New York Excelsior\n",
       "9       9         Boston Uprising\n",
       "10     10        Shanghai Dragons\n",
       "11     11     Philadelphia Fusion"
      ]
     },
     "execution_count": 4,
     "metadata": {},
     "output_type": "execute_result"
    }
   ],
   "source": [
    "teams = regular_season.Win.unique()\n",
    "n_teams = len(teams)\n",
    "teams = pd.DataFrame({\"index\":range(len(teams)), \"team\": teams})\n",
    "teams.head(20)"
   ]
  },
  {
   "cell_type": "code",
   "execution_count": 5,
   "metadata": {
    "_uuid": "a95fce148f5e61257e5f446a2400cf8743c430f3"
   },
   "outputs": [
    {
     "data": {
      "text/html": [
       "<div>\n",
       "<style scoped>\n",
       "    .dataframe tbody tr th:only-of-type {\n",
       "        vertical-align: middle;\n",
       "    }\n",
       "\n",
       "    .dataframe tbody tr th {\n",
       "        vertical-align: top;\n",
       "    }\n",
       "\n",
       "    .dataframe thead th {\n",
       "        text-align: right;\n",
       "    }\n",
       "</style>\n",
       "<table border=\"1\" class=\"dataframe\">\n",
       "  <thead>\n",
       "    <tr style=\"text-align: right;\">\n",
       "      <th></th>\n",
       "      <th>Win</th>\n",
       "      <th>Success</th>\n",
       "      <th>win_index</th>\n",
       "    </tr>\n",
       "  </thead>\n",
       "  <tbody>\n",
       "    <tr>\n",
       "      <th>0</th>\n",
       "      <td>Boston Uprising</td>\n",
       "      <td>98.0</td>\n",
       "      <td>9</td>\n",
       "    </tr>\n",
       "    <tr>\n",
       "      <th>1</th>\n",
       "      <td>Dallas Fuel</td>\n",
       "      <td>65.0</td>\n",
       "      <td>6</td>\n",
       "    </tr>\n",
       "    <tr>\n",
       "      <th>2</th>\n",
       "      <td>Florida Mayhem</td>\n",
       "      <td>43.0</td>\n",
       "      <td>0</td>\n",
       "    </tr>\n",
       "    <tr>\n",
       "      <th>3</th>\n",
       "      <td>Houston Outlaws</td>\n",
       "      <td>93.0</td>\n",
       "      <td>7</td>\n",
       "    </tr>\n",
       "    <tr>\n",
       "      <th>4</th>\n",
       "      <td>London Spitfire</td>\n",
       "      <td>108.0</td>\n",
       "      <td>5</td>\n",
       "    </tr>\n",
       "    <tr>\n",
       "      <th>5</th>\n",
       "      <td>Los Angeles Gladiators</td>\n",
       "      <td>99.0</td>\n",
       "      <td>4</td>\n",
       "    </tr>\n",
       "    <tr>\n",
       "      <th>6</th>\n",
       "      <td>Los Angeles Valiant</td>\n",
       "      <td>108.0</td>\n",
       "      <td>2</td>\n",
       "    </tr>\n",
       "    <tr>\n",
       "      <th>7</th>\n",
       "      <td>New York Excelsior</td>\n",
       "      <td>138.0</td>\n",
       "      <td>8</td>\n",
       "    </tr>\n",
       "    <tr>\n",
       "      <th>8</th>\n",
       "      <td>Philadelphia Fusion</td>\n",
       "      <td>94.0</td>\n",
       "      <td>11</td>\n",
       "    </tr>\n",
       "    <tr>\n",
       "      <th>9</th>\n",
       "      <td>San Francisco Shock</td>\n",
       "      <td>77.0</td>\n",
       "      <td>1</td>\n",
       "    </tr>\n",
       "    <tr>\n",
       "      <th>10</th>\n",
       "      <td>Seoul Dynasty</td>\n",
       "      <td>97.0</td>\n",
       "      <td>3</td>\n",
       "    </tr>\n",
       "    <tr>\n",
       "      <th>11</th>\n",
       "      <td>Shanghai Dragons</td>\n",
       "      <td>23.0</td>\n",
       "      <td>10</td>\n",
       "    </tr>\n",
       "  </tbody>\n",
       "</table>\n",
       "</div>"
      ],
      "text/plain": [
       "                       Win  Success  win_index\n",
       "0          Boston Uprising     98.0          9\n",
       "1              Dallas Fuel     65.0          6\n",
       "2           Florida Mayhem     43.0          0\n",
       "3          Houston Outlaws     93.0          7\n",
       "4          London Spitfire    108.0          5\n",
       "5   Los Angeles Gladiators     99.0          4\n",
       "6      Los Angeles Valiant    108.0          2\n",
       "7       New York Excelsior    138.0          8\n",
       "8      Philadelphia Fusion     94.0         11\n",
       "9      San Francisco Shock     77.0          1\n",
       "10           Seoul Dynasty     97.0          3\n",
       "11        Shanghai Dragons     23.0         10"
      ]
     },
     "execution_count": 5,
     "metadata": {},
     "output_type": "execute_result"
    }
   ],
   "source": [
    "regular_season['Success']=1.0\n",
    "wins=regular_season.groupby(\"Win\").agg({\"Success\":'sum'})\n",
    "wins = pd.merge(wins,\\\n",
    "                    teams.rename(index=str,\\\n",
    "                    columns={\"team\": \"Win\", \"index\": \"win_index\"}),\n",
    "                    on = ['Win'] )\n",
    "wins.head(20)"
   ]
  },
  {
   "cell_type": "code",
   "execution_count": 6,
   "metadata": {
    "_uuid": "2d26cb067495667d450b8e3eeee394624778e4b6"
   },
   "outputs": [
    {
     "data": {
      "text/html": [
       "<div>\n",
       "<style scoped>\n",
       "    .dataframe tbody tr th:only-of-type {\n",
       "        vertical-align: middle;\n",
       "    }\n",
       "\n",
       "    .dataframe tbody tr th {\n",
       "        vertical-align: top;\n",
       "    }\n",
       "\n",
       "    .dataframe thead th {\n",
       "        text-align: right;\n",
       "    }\n",
       "</style>\n",
       "<table border=\"1\" class=\"dataframe\">\n",
       "  <thead>\n",
       "    <tr style=\"text-align: right;\">\n",
       "      <th></th>\n",
       "      <th>Success</th>\n",
       "      <th>win_index</th>\n",
       "      <th>lose_index</th>\n",
       "    </tr>\n",
       "  </thead>\n",
       "  <tbody>\n",
       "    <tr>\n",
       "      <th>0</th>\n",
       "      <td>1.0</td>\n",
       "      <td>0</td>\n",
       "      <td>1</td>\n",
       "    </tr>\n",
       "    <tr>\n",
       "      <th>1</th>\n",
       "      <td>1.0</td>\n",
       "      <td>0</td>\n",
       "      <td>1</td>\n",
       "    </tr>\n",
       "    <tr>\n",
       "      <th>2</th>\n",
       "      <td>1.0</td>\n",
       "      <td>0</td>\n",
       "      <td>1</td>\n",
       "    </tr>\n",
       "    <tr>\n",
       "      <th>3</th>\n",
       "      <td>1.0</td>\n",
       "      <td>0</td>\n",
       "      <td>1</td>\n",
       "    </tr>\n",
       "    <tr>\n",
       "      <th>4</th>\n",
       "      <td>1.0</td>\n",
       "      <td>2</td>\n",
       "      <td>1</td>\n",
       "    </tr>\n",
       "  </tbody>\n",
       "</table>\n",
       "</div>"
      ],
      "text/plain": [
       "   Success  win_index  lose_index\n",
       "0      1.0          0           1\n",
       "1      1.0          0           1\n",
       "2      1.0          0           1\n",
       "3      1.0          0           1\n",
       "4      1.0          2           1"
      ]
     },
     "execution_count": 6,
     "metadata": {},
     "output_type": "execute_result"
    }
   ],
   "source": [
    "regular_season = pd.merge(regular_season,\\\n",
    "                    teams.rename(index=str,\\\n",
    "                    columns={\"team\": \"Win\", \"index\": \"win_index\"}),\n",
    "                    on = ['Win'] )\n",
    "\n",
    "regular_season = pd.merge(regular_season,\\\n",
    "                    teams.rename(index=str,\\\n",
    "                    columns={\"team\": \"Lose\", \"index\": \"lose_index\"}),\n",
    "                    on = ['Lose'] )\n",
    "\n",
    "regular_season = regular_season.drop(['Win','Lose'], axis=1)\n",
    "\n",
    "regular_season.head()"
   ]
  },
  {
   "cell_type": "code",
   "execution_count": 7,
   "metadata": {
    "_uuid": "8c060db50907b4acf755d14f8ce90029183121f6"
   },
   "outputs": [
    {
     "data": {
      "text/html": [
       "<div>\n",
       "<style scoped>\n",
       "    .dataframe tbody tr th:only-of-type {\n",
       "        vertical-align: middle;\n",
       "    }\n",
       "\n",
       "    .dataframe tbody tr th {\n",
       "        vertical-align: top;\n",
       "    }\n",
       "\n",
       "    .dataframe thead th {\n",
       "        text-align: right;\n",
       "    }\n",
       "</style>\n",
       "<table border=\"1\" class=\"dataframe\">\n",
       "  <thead>\n",
       "    <tr style=\"text-align: right;\">\n",
       "      <th></th>\n",
       "      <th>win_index</th>\n",
       "      <th>lose_index</th>\n",
       "      <th>Success</th>\n",
       "    </tr>\n",
       "  </thead>\n",
       "  <tbody>\n",
       "    <tr>\n",
       "      <th>0</th>\n",
       "      <td>0</td>\n",
       "      <td>1</td>\n",
       "      <td>1.0</td>\n",
       "    </tr>\n",
       "  </tbody>\n",
       "</table>\n",
       "</div>"
      ],
      "text/plain": [
       "   win_index  lose_index  Success\n",
       "0          0           1      1.0"
      ]
     },
     "execution_count": 7,
     "metadata": {},
     "output_type": "execute_result"
    }
   ],
   "source": [
    "def build_training_df(df,add_losses=False):\n",
    "    columns = ['win_index','lose_index','Success']\n",
    "    df['Success'] = 1.0\n",
    "    if add_losses:\n",
    "            inverse_season = df.copy()\n",
    "            inverse_season['tmp_lose_index'] = inverse_season['win_index']\n",
    "            inverse_season['tmp_win_index'] = inverse_season['lose_index']\n",
    "\n",
    "            inverse_season = inverse_season.drop(['win_index','lose_index'], axis=1)\n",
    "            inverse_season = inverse_season.rename(index=str,\\\n",
    "                                columns={\"tmp_win_index\": \"win_index\", \"tmp_lose_index\": \"lose_index\"})\n",
    "            inverse_season['Success'] = 0.0\n",
    "            df=pd.concat([df[columns],inverse_season[columns]],axis=0)\n",
    "    return df[columns]\n",
    "    \n",
    "X = build_training_df(regular_season)\n",
    "X.head(1)"
   ]
  },
  {
   "cell_type": "code",
   "execution_count": 8,
   "metadata": {
    "_uuid": "c14ffba49ab5bafd0a914476d193a08bfed11ec6"
   },
   "outputs": [
    {
     "name": "stdout",
     "output_type": "stream",
     "text": [
      "MAYBE FOR TRAINING, ONLY HAVE TRUTH VALUES\n"
     ]
    }
   ],
   "source": [
    "import theano.tensor as T\n",
    "print (\"MAYBE FOR TRAINING, ONLY HAVE TRUTH VALUES\")\n",
    "winner_index = theano.shared(np.array(X['win_index']))\n",
    "loser_index = theano.shared(np.array(X['lose_index']))\n",
    "model_output = theano.shared(np.array(X['Success']))"
   ]
  },
  {
   "cell_type": "code",
   "execution_count": 9,
   "metadata": {
    "_uuid": "75be142baf468e99200ab4abcd89b28b92b6bb8c"
   },
   "outputs": [
    {
     "name": "stdout",
     "output_type": "stream",
     "text": [
      "Running on PyMC3 v3.6\n"
     ]
    }
   ],
   "source": [
    "import pymc3 as pm\n",
    "\n",
    "print('Running on PyMC3 v{}'.format(pm.__version__))\n",
    "\n",
    "elo = pm.Model()\n",
    "\n",
    "with elo:\n",
    "    sigma = pm.Gamma('noise', alpha=10.0, beta=1)\n",
    "    #sigma = pm.Gamma('noise_worse', alpha=10.0, beta=2)\n",
    "    #sigma = pm.HalfCauchy('noise', beta=3.0)\n",
    "    elo_team = pm.Normal(\"elo_team\", mu = 2000.0, sd=sigma, shape=n_teams)\n",
    "\n",
    "    log_rating2 = 10.0**(elo_team[loser_index]/400.0)\n",
    "    log_rating1 = 10.0**(elo_team[winner_index]/400.0)\n",
    "    E = log_rating1/(log_rating1+log_rating2) # Expected value\n",
    "    \n",
    "    out = pm.Bernoulli('out', \n",
    "                   E,\n",
    "                   observed=model_output)"
   ]
  },
  {
   "cell_type": "code",
   "execution_count": 10,
   "metadata": {
    "_uuid": "d80be5b686b12b96c82c7bfdf1d3443009421ba0"
   },
   "outputs": [
    {
     "name": "stderr",
     "output_type": "stream",
     "text": [
      "Auto-assigning NUTS sampler...\n",
      "Initializing NUTS using jitter+adapt_diag...\n",
      "Multiprocess sampling (2 chains in 2 jobs)\n",
      "NUTS: [elo_team, noise]\n",
      "Sampling 2 chains: 100%|██████████| 17000/17000 [00:47<00:00, 359.84draws/s]\n"
     ]
    }
   ],
   "source": [
    "use_advi = False\n",
    "\n",
    "with elo:\n",
    "    if use_advi:\n",
    "        inference = pm.ADVI()\n",
    "        advi_approx = pm.fit(n=100000, method=inference)\n",
    "    else:\n",
    "        trace = pm.sample(8000)"
   ]
  },
  {
   "cell_type": "code",
   "execution_count": 11,
   "metadata": {
    "_uuid": "1bc2b2b65ca824173140c03c3b835623c825eba1"
   },
   "outputs": [],
   "source": [
    "#Now we sample from our approximation in order to get a similar trace\n",
    "if use_advi:\n",
    "    trace = advi_approx.sample(10000)"
   ]
  },
  {
   "cell_type": "code",
   "execution_count": 12,
   "metadata": {
    "_uuid": "eecd5fd8d811c6d95f9e3d3fbb3d580442dd41b5"
   },
   "outputs": [
    {
     "data": {
      "image/png": "[encoded data removed]",
      "text/plain": [
       "<Figure size 864x288 with 4 Axes>"
      ]
     },
     "metadata": {},
     "output_type": "display_data"
    }
   ],
   "source": [
    "pm.traceplot(trace);"
   ]
  },
  {
   "cell_type": "code",
   "execution_count": 13,
   "metadata": {
    "_uuid": "2c5eb969958e7751b74453878966bd728720c730"
   },
   "outputs": [
    {
     "data": {
      "text/html": [
       "<div>\n",
       "<style scoped>\n",
       "    .dataframe tbody tr th:only-of-type {\n",
       "        vertical-align: middle;\n",
       "    }\n",
       "\n",
       "    .dataframe tbody tr th {\n",
       "        vertical-align: top;\n",
       "    }\n",
       "\n",
       "    .dataframe thead th {\n",
       "        text-align: right;\n",
       "    }\n",
       "</style>\n",
       "<table border=\"1\" class=\"dataframe\">\n",
       "  <thead>\n",
       "    <tr style=\"text-align: right;\">\n",
       "      <th></th>\n",
       "      <th>mean</th>\n",
       "      <th>sd</th>\n",
       "      <th>mc_error</th>\n",
       "      <th>hpd_2.5</th>\n",
       "      <th>hpd_97.5</th>\n",
       "      <th>n_eff</th>\n",
       "      <th>Rhat</th>\n",
       "    </tr>\n",
       "  </thead>\n",
       "  <tbody>\n",
       "    <tr>\n",
       "      <th>elo_team__0</th>\n",
       "      <td>1886.902479</td>\n",
       "      <td>26.804245</td>\n",
       "      <td>0.184216</td>\n",
       "      <td>1831.736686</td>\n",
       "      <td>1937.092529</td>\n",
       "      <td>20662.672671</td>\n",
       "      <td>1.000014</td>\n",
       "    </tr>\n",
       "    <tr>\n",
       "      <th>elo_team__1</th>\n",
       "      <td>1984.699994</td>\n",
       "      <td>24.998467</td>\n",
       "      <td>0.158736</td>\n",
       "      <td>1937.191351</td>\n",
       "      <td>2034.488071</td>\n",
       "      <td>22156.136093</td>\n",
       "      <td>0.999940</td>\n",
       "    </tr>\n",
       "    <tr>\n",
       "      <th>elo_team__2</th>\n",
       "      <td>2057.367130</td>\n",
       "      <td>24.865345</td>\n",
       "      <td>0.172443</td>\n",
       "      <td>2009.630549</td>\n",
       "      <td>2106.704445</td>\n",
       "      <td>21122.568430</td>\n",
       "      <td>0.999948</td>\n",
       "    </tr>\n",
       "    <tr>\n",
       "      <th>elo_team__3</th>\n",
       "      <td>2033.974774</td>\n",
       "      <td>24.876458</td>\n",
       "      <td>0.159948</td>\n",
       "      <td>1984.738341</td>\n",
       "      <td>2082.409690</td>\n",
       "      <td>21113.004346</td>\n",
       "      <td>0.999944</td>\n",
       "    </tr>\n",
       "    <tr>\n",
       "      <th>elo_team__4</th>\n",
       "      <td>2034.381207</td>\n",
       "      <td>24.340789</td>\n",
       "      <td>0.165470</td>\n",
       "      <td>1985.690940</td>\n",
       "      <td>2081.029477</td>\n",
       "      <td>20934.261489</td>\n",
       "      <td>0.999939</td>\n",
       "    </tr>\n",
       "    <tr>\n",
       "      <th>elo_team__5</th>\n",
       "      <td>2050.433952</td>\n",
       "      <td>24.615052</td>\n",
       "      <td>0.179117</td>\n",
       "      <td>2003.226981</td>\n",
       "      <td>2099.493394</td>\n",
       "      <td>18405.593489</td>\n",
       "      <td>0.999988</td>\n",
       "    </tr>\n",
       "    <tr>\n",
       "      <th>elo_team__6</th>\n",
       "      <td>1947.675731</td>\n",
       "      <td>25.370715</td>\n",
       "      <td>0.172229</td>\n",
       "      <td>1897.679568</td>\n",
       "      <td>1997.294231</td>\n",
       "      <td>22813.355967</td>\n",
       "      <td>0.999987</td>\n",
       "    </tr>\n",
       "    <tr>\n",
       "      <th>elo_team__7</th>\n",
       "      <td>2022.237612</td>\n",
       "      <td>24.625649</td>\n",
       "      <td>0.177086</td>\n",
       "      <td>1976.524021</td>\n",
       "      <td>2073.036065</td>\n",
       "      <td>20147.598004</td>\n",
       "      <td>0.999961</td>\n",
       "    </tr>\n",
       "    <tr>\n",
       "      <th>elo_team__8</th>\n",
       "      <td>2116.452494</td>\n",
       "      <td>26.094669</td>\n",
       "      <td>0.193487</td>\n",
       "      <td>2067.709716</td>\n",
       "      <td>2169.737281</td>\n",
       "      <td>17927.092693</td>\n",
       "      <td>0.999938</td>\n",
       "    </tr>\n",
       "    <tr>\n",
       "      <th>elo_team__9</th>\n",
       "      <td>2028.985198</td>\n",
       "      <td>24.840915</td>\n",
       "      <td>0.173867</td>\n",
       "      <td>1981.126049</td>\n",
       "      <td>2077.813210</td>\n",
       "      <td>20253.032906</td>\n",
       "      <td>1.000074</td>\n",
       "    </tr>\n",
       "    <tr>\n",
       "      <th>elo_team__10</th>\n",
       "      <td>1818.665401</td>\n",
       "      <td>30.575416</td>\n",
       "      <td>0.213381</td>\n",
       "      <td>1757.389319</td>\n",
       "      <td>1877.362345</td>\n",
       "      <td>18641.798768</td>\n",
       "      <td>1.000356</td>\n",
       "    </tr>\n",
       "    <tr>\n",
       "      <th>elo_team__11</th>\n",
       "      <td>2021.611648</td>\n",
       "      <td>24.478701</td>\n",
       "      <td>0.197998</td>\n",
       "      <td>1973.838660</td>\n",
       "      <td>2069.686402</td>\n",
       "      <td>20191.938716</td>\n",
       "      <td>0.999938</td>\n",
       "    </tr>\n",
       "    <tr>\n",
       "      <th>noise</th>\n",
       "      <td>42.486276</td>\n",
       "      <td>4.965166</td>\n",
       "      <td>0.043380</td>\n",
       "      <td>33.015826</td>\n",
       "      <td>52.288570</td>\n",
       "      <td>14463.611948</td>\n",
       "      <td>1.000298</td>\n",
       "    </tr>\n",
       "  </tbody>\n",
       "</table>\n",
       "</div>"
      ],
      "text/plain": [
       "                     mean         sd    ...            n_eff      Rhat\n",
       "elo_team__0   1886.902479  26.804245    ...     20662.672671  1.000014\n",
       "elo_team__1   1984.699994  24.998467    ...     22156.136093  0.999940\n",
       "elo_team__2   2057.367130  24.865345    ...     21122.568430  0.999948\n",
       "elo_team__3   2033.974774  24.876458    ...     21113.004346  0.999944\n",
       "elo_team__4   2034.381207  24.340789    ...     20934.261489  0.999939\n",
       "elo_team__5   2050.433952  24.615052    ...     18405.593489  0.999988\n",
       "elo_team__6   1947.675731  25.370715    ...     22813.355967  0.999987\n",
       "elo_team__7   2022.237612  24.625649    ...     20147.598004  0.999961\n",
       "elo_team__8   2116.452494  26.094669    ...     17927.092693  0.999938\n",
       "elo_team__9   2028.985198  24.840915    ...     20253.032906  1.000074\n",
       "elo_team__10  1818.665401  30.575416    ...     18641.798768  1.000356\n",
       "elo_team__11  2021.611648  24.478701    ...     20191.938716  0.999938\n",
       "noise           42.486276   4.965166    ...     14463.611948  1.000298\n",
       "\n",
       "[13 rows x 7 columns]"
      ]
     },
     "execution_count": 13,
     "metadata": {},
     "output_type": "execute_result"
    }
   ],
   "source": [
    "pm.summary(trace)"
   ]
  },
  {
   "cell_type": "code",
   "execution_count": 14,
   "metadata": {
    "_uuid": "d94e934b397471f3771a9730d493f9c0ddca944e"
   },
   "outputs": [
    {
     "data": {
      "text/html": [
       "<div>\n",
       "<style scoped>\n",
       "    .dataframe tbody tr th:only-of-type {\n",
       "        vertical-align: middle;\n",
       "    }\n",
       "\n",
       "    .dataframe tbody tr th {\n",
       "        vertical-align: top;\n",
       "    }\n",
       "\n",
       "    .dataframe thead th {\n",
       "        text-align: right;\n",
       "    }\n",
       "</style>\n",
       "<table border=\"1\" class=\"dataframe\">\n",
       "  <thead>\n",
       "    <tr style=\"text-align: right;\">\n",
       "      <th></th>\n",
       "      <th>Win</th>\n",
       "      <th>Success</th>\n",
       "      <th>win_index</th>\n",
       "      <th>Elo</th>\n",
       "    </tr>\n",
       "  </thead>\n",
       "  <tbody>\n",
       "    <tr>\n",
       "      <th>7</th>\n",
       "      <td>New York Excelsior</td>\n",
       "      <td>138.0</td>\n",
       "      <td>8</td>\n",
       "      <td>2116.452494</td>\n",
       "    </tr>\n",
       "    <tr>\n",
       "      <th>6</th>\n",
       "      <td>Los Angeles Valiant</td>\n",
       "      <td>108.0</td>\n",
       "      <td>2</td>\n",
       "      <td>2057.367130</td>\n",
       "    </tr>\n",
       "    <tr>\n",
       "      <th>4</th>\n",
       "      <td>London Spitfire</td>\n",
       "      <td>108.0</td>\n",
       "      <td>5</td>\n",
       "      <td>2050.433952</td>\n",
       "    </tr>\n",
       "    <tr>\n",
       "      <th>5</th>\n",
       "      <td>Los Angeles Gladiators</td>\n",
       "      <td>99.0</td>\n",
       "      <td>4</td>\n",
       "      <td>2034.381207</td>\n",
       "    </tr>\n",
       "    <tr>\n",
       "      <th>0</th>\n",
       "      <td>Boston Uprising</td>\n",
       "      <td>98.0</td>\n",
       "      <td>9</td>\n",
       "      <td>2028.985198</td>\n",
       "    </tr>\n",
       "    <tr>\n",
       "      <th>10</th>\n",
       "      <td>Seoul Dynasty</td>\n",
       "      <td>97.0</td>\n",
       "      <td>3</td>\n",
       "      <td>2033.974774</td>\n",
       "    </tr>\n",
       "    <tr>\n",
       "      <th>8</th>\n",
       "      <td>Philadelphia Fusion</td>\n",
       "      <td>94.0</td>\n",
       "      <td>11</td>\n",
       "      <td>2021.611648</td>\n",
       "    </tr>\n",
       "    <tr>\n",
       "      <th>3</th>\n",
       "      <td>Houston Outlaws</td>\n",
       "      <td>93.0</td>\n",
       "      <td>7</td>\n",
       "      <td>2022.237612</td>\n",
       "    </tr>\n",
       "    <tr>\n",
       "      <th>9</th>\n",
       "      <td>San Francisco Shock</td>\n",
       "      <td>77.0</td>\n",
       "      <td>1</td>\n",
       "      <td>1984.699994</td>\n",
       "    </tr>\n",
       "    <tr>\n",
       "      <th>1</th>\n",
       "      <td>Dallas Fuel</td>\n",
       "      <td>65.0</td>\n",
       "      <td>6</td>\n",
       "      <td>1947.675731</td>\n",
       "    </tr>\n",
       "    <tr>\n",
       "      <th>2</th>\n",
       "      <td>Florida Mayhem</td>\n",
       "      <td>43.0</td>\n",
       "      <td>0</td>\n",
       "      <td>1886.902479</td>\n",
       "    </tr>\n",
       "    <tr>\n",
       "      <th>11</th>\n",
       "      <td>Shanghai Dragons</td>\n",
       "      <td>23.0</td>\n",
       "      <td>10</td>\n",
       "      <td>1818.665401</td>\n",
       "    </tr>\n",
       "  </tbody>\n",
       "</table>\n",
       "</div>"
      ],
      "text/plain": [
       "                       Win  Success  win_index          Elo\n",
       "7       New York Excelsior    138.0          8  2116.452494\n",
       "6      Los Angeles Valiant    108.0          2  2057.367130\n",
       "4          London Spitfire    108.0          5  2050.433952\n",
       "5   Los Angeles Gladiators     99.0          4  2034.381207\n",
       "0          Boston Uprising     98.0          9  2028.985198\n",
       "10           Seoul Dynasty     97.0          3  2033.974774\n",
       "8      Philadelphia Fusion     94.0         11  2021.611648\n",
       "3          Houston Outlaws     93.0          7  2022.237612\n",
       "9      San Francisco Shock     77.0          1  1984.699994\n",
       "1              Dallas Fuel     65.0          6  1947.675731\n",
       "2           Florida Mayhem     43.0          0  1886.902479\n",
       "11        Shanghai Dragons     23.0         10  1818.665401"
      ]
     },
     "execution_count": 14,
     "metadata": {},
     "output_type": "execute_result"
    }
   ],
   "source": [
    "wins = wins.sort_values(by='win_index',ascending=True)\n",
    "wins['Elo'] = trace.elo_team.mean(axis=0)\n",
    "wins = wins.sort_values(by='Success',ascending=False)\n",
    "wins.head(12)"
   ]
  },
  {
   "cell_type": "code",
   "execution_count": 15,
   "metadata": {
    "_uuid": "aa02e4eca0f5f5835234922f746f109013e2990f"
   },
   "outputs": [
    {
     "name": "stderr",
     "output_type": "stream",
     "text": [
      "100%|██████████| 2000/2000 [00:23<00:00, 84.04it/s]\n"
     ]
    },
    {
     "data": {
      "text/plain": [
       "0.6567593480345159"
      ]
     },
     "execution_count": 15,
     "metadata": {},
     "output_type": "execute_result"
    }
   ],
   "source": [
    "def make_preds(trace,model_name):\n",
    "    ppc = pm.sample_posterior_predictive(trace, model=model_name, samples=500)\n",
    "    return ppc['out'].mean(axis=0)\n",
    "\n",
    "def scoreModel(trace,y,model_name):\n",
    "    ppc = pm.sample_posterior_predictive(trace, model=model_name, samples=2000)\n",
    "    pred = ppc['out'].mean(axis=0)\n",
    "    #return roc_auc_score(y, pred)\n",
    "    return accuracy_score(y,[round(x) for x in pred])\n",
    "\n",
    "scoreModel(trace,X['Success'],elo)"
   ]
  },
  {
   "cell_type": "code",
   "execution_count": 16,
   "metadata": {
    "_uuid": "ae3cd96d62e017f8d3369a8a1b960aeecbb5cc69"
   },
   "outputs": [
    {
     "data": {
      "text/html": [
       "<div>\n",
       "<style scoped>\n",
       "    .dataframe tbody tr th:only-of-type {\n",
       "        vertical-align: middle;\n",
       "    }\n",
       "\n",
       "    .dataframe tbody tr th {\n",
       "        vertical-align: top;\n",
       "    }\n",
       "\n",
       "    .dataframe thead th {\n",
       "        text-align: right;\n",
       "    }\n",
       "</style>\n",
       "<table border=\"1\" class=\"dataframe\">\n",
       "  <thead>\n",
       "    <tr style=\"text-align: right;\">\n",
       "      <th></th>\n",
       "      <th>Win</th>\n",
       "      <th>Lose</th>\n",
       "    </tr>\n",
       "  </thead>\n",
       "  <tbody>\n",
       "    <tr>\n",
       "      <th>38</th>\n",
       "      <td>London Spitfire</td>\n",
       "      <td>Philadelphia Fusion</td>\n",
       "    </tr>\n",
       "    <tr>\n",
       "      <th>39</th>\n",
       "      <td>London Spitfire</td>\n",
       "      <td>Philadelphia Fusion</td>\n",
       "    </tr>\n",
       "    <tr>\n",
       "      <th>40</th>\n",
       "      <td>London Spitfire</td>\n",
       "      <td>Philadelphia Fusion</td>\n",
       "    </tr>\n",
       "    <tr>\n",
       "      <th>41</th>\n",
       "      <td>London Spitfire</td>\n",
       "      <td>Philadelphia Fusion</td>\n",
       "    </tr>\n",
       "    <tr>\n",
       "      <th>42</th>\n",
       "      <td>London Spitfire</td>\n",
       "      <td>Philadelphia Fusion</td>\n",
       "    </tr>\n",
       "  </tbody>\n",
       "</table>\n",
       "</div>"
      ],
      "text/plain": [
       "                Win                 Lose\n",
       "38  London Spitfire  Philadelphia Fusion\n",
       "39  London Spitfire  Philadelphia Fusion\n",
       "40  London Spitfire  Philadelphia Fusion\n",
       "41  London Spitfire  Philadelphia Fusion\n",
       "42  London Spitfire  Philadelphia Fusion"
      ]
     },
     "execution_count": 16,
     "metadata": {},
     "output_type": "execute_result"
    }
   ],
   "source": [
    "playoffs = pd.read_csv('../input/playoff_win_loss.csv')\n",
    "playoffs.tail()"
   ]
  },
  {
   "cell_type": "code",
   "execution_count": 17,
   "metadata": {
    "_uuid": "279f15b00082975ac11d7f21e41e64d9a07372a8"
   },
   "outputs": [
    {
     "data": {
      "text/html": [
       "<div>\n",
       "<style scoped>\n",
       "    .dataframe tbody tr th:only-of-type {\n",
       "        vertical-align: middle;\n",
       "    }\n",
       "\n",
       "    .dataframe tbody tr th {\n",
       "        vertical-align: top;\n",
       "    }\n",
       "\n",
       "    .dataframe thead th {\n",
       "        text-align: right;\n",
       "    }\n",
       "</style>\n",
       "<table border=\"1\" class=\"dataframe\">\n",
       "  <thead>\n",
       "    <tr style=\"text-align: right;\">\n",
       "      <th></th>\n",
       "      <th>Playoff_Success</th>\n",
       "    </tr>\n",
       "    <tr>\n",
       "      <th>Win</th>\n",
       "      <th></th>\n",
       "    </tr>\n",
       "  </thead>\n",
       "  <tbody>\n",
       "    <tr>\n",
       "      <th>Boston Uprising</th>\n",
       "      <td>5.0</td>\n",
       "    </tr>\n",
       "    <tr>\n",
       "      <th>London Spitfire</th>\n",
       "      <td>18.0</td>\n",
       "    </tr>\n",
       "    <tr>\n",
       "      <th>Los Angeles Gladiators</th>\n",
       "      <td>3.0</td>\n",
       "    </tr>\n",
       "    <tr>\n",
       "      <th>Los Angeles Valiant</th>\n",
       "      <td>1.0</td>\n",
       "    </tr>\n",
       "    <tr>\n",
       "      <th>New York Excelsior</th>\n",
       "      <td>2.0</td>\n",
       "    </tr>\n",
       "    <tr>\n",
       "      <th>Philadelphia Fusion</th>\n",
       "      <td>14.0</td>\n",
       "    </tr>\n",
       "  </tbody>\n",
       "</table>\n",
       "</div>"
      ],
      "text/plain": [
       "                        Playoff_Success\n",
       "Win                                    \n",
       "Boston Uprising                     5.0\n",
       "London Spitfire                    18.0\n",
       "Los Angeles Gladiators              3.0\n",
       "Los Angeles Valiant                 1.0\n",
       "New York Excelsior                  2.0\n",
       "Philadelphia Fusion                14.0"
      ]
     },
     "execution_count": 17,
     "metadata": {},
     "output_type": "execute_result"
    }
   ],
   "source": [
    "playoffs['Playoff_Success'] = 1.0\n",
    "playoff_wins=playoffs.groupby(\"Win\").agg({\"Playoff_Success\":'sum'})\n",
    "playoff_wins.head(12)"
   ]
  },
  {
   "cell_type": "code",
   "execution_count": 18,
   "metadata": {
    "_uuid": "af94e3240421667c1338aabf4d50ad69bc8bbafd"
   },
   "outputs": [
    {
     "data": {
      "text/html": [
       "<div>\n",
       "<style scoped>\n",
       "    .dataframe tbody tr th:only-of-type {\n",
       "        vertical-align: middle;\n",
       "    }\n",
       "\n",
       "    .dataframe tbody tr th {\n",
       "        vertical-align: top;\n",
       "    }\n",
       "\n",
       "    .dataframe thead th {\n",
       "        text-align: right;\n",
       "    }\n",
       "</style>\n",
       "<table border=\"1\" class=\"dataframe\">\n",
       "  <thead>\n",
       "    <tr style=\"text-align: right;\">\n",
       "      <th></th>\n",
       "      <th>Win</th>\n",
       "      <th>Success</th>\n",
       "      <th>win_index</th>\n",
       "      <th>Elo</th>\n",
       "      <th>Playoff_Success</th>\n",
       "    </tr>\n",
       "  </thead>\n",
       "  <tbody>\n",
       "    <tr>\n",
       "      <th>0</th>\n",
       "      <td>New York Excelsior</td>\n",
       "      <td>138.0</td>\n",
       "      <td>8</td>\n",
       "      <td>2116.452494</td>\n",
       "      <td>2.0</td>\n",
       "    </tr>\n",
       "    <tr>\n",
       "      <th>1</th>\n",
       "      <td>Los Angeles Valiant</td>\n",
       "      <td>108.0</td>\n",
       "      <td>2</td>\n",
       "      <td>2057.367130</td>\n",
       "      <td>1.0</td>\n",
       "    </tr>\n",
       "    <tr>\n",
       "      <th>2</th>\n",
       "      <td>London Spitfire</td>\n",
       "      <td>108.0</td>\n",
       "      <td>5</td>\n",
       "      <td>2050.433952</td>\n",
       "      <td>18.0</td>\n",
       "    </tr>\n",
       "    <tr>\n",
       "      <th>3</th>\n",
       "      <td>Los Angeles Gladiators</td>\n",
       "      <td>99.0</td>\n",
       "      <td>4</td>\n",
       "      <td>2034.381207</td>\n",
       "      <td>3.0</td>\n",
       "    </tr>\n",
       "    <tr>\n",
       "      <th>4</th>\n",
       "      <td>Boston Uprising</td>\n",
       "      <td>98.0</td>\n",
       "      <td>9</td>\n",
       "      <td>2028.985198</td>\n",
       "      <td>5.0</td>\n",
       "    </tr>\n",
       "    <tr>\n",
       "      <th>5</th>\n",
       "      <td>Seoul Dynasty</td>\n",
       "      <td>97.0</td>\n",
       "      <td>3</td>\n",
       "      <td>2033.974774</td>\n",
       "      <td>NaN</td>\n",
       "    </tr>\n",
       "    <tr>\n",
       "      <th>6</th>\n",
       "      <td>Philadelphia Fusion</td>\n",
       "      <td>94.0</td>\n",
       "      <td>11</td>\n",
       "      <td>2021.611648</td>\n",
       "      <td>14.0</td>\n",
       "    </tr>\n",
       "    <tr>\n",
       "      <th>7</th>\n",
       "      <td>Houston Outlaws</td>\n",
       "      <td>93.0</td>\n",
       "      <td>7</td>\n",
       "      <td>2022.237612</td>\n",
       "      <td>NaN</td>\n",
       "    </tr>\n",
       "    <tr>\n",
       "      <th>8</th>\n",
       "      <td>San Francisco Shock</td>\n",
       "      <td>77.0</td>\n",
       "      <td>1</td>\n",
       "      <td>1984.699994</td>\n",
       "      <td>NaN</td>\n",
       "    </tr>\n",
       "    <tr>\n",
       "      <th>9</th>\n",
       "      <td>Dallas Fuel</td>\n",
       "      <td>65.0</td>\n",
       "      <td>6</td>\n",
       "      <td>1947.675731</td>\n",
       "      <td>NaN</td>\n",
       "    </tr>\n",
       "    <tr>\n",
       "      <th>10</th>\n",
       "      <td>Florida Mayhem</td>\n",
       "      <td>43.0</td>\n",
       "      <td>0</td>\n",
       "      <td>1886.902479</td>\n",
       "      <td>NaN</td>\n",
       "    </tr>\n",
       "    <tr>\n",
       "      <th>11</th>\n",
       "      <td>Shanghai Dragons</td>\n",
       "      <td>23.0</td>\n",
       "      <td>10</td>\n",
       "      <td>1818.665401</td>\n",
       "      <td>NaN</td>\n",
       "    </tr>\n",
       "  </tbody>\n",
       "</table>\n",
       "</div>"
      ],
      "text/plain": [
       "                       Win       ...         Playoff_Success\n",
       "0       New York Excelsior       ...                     2.0\n",
       "1      Los Angeles Valiant       ...                     1.0\n",
       "2          London Spitfire       ...                    18.0\n",
       "3   Los Angeles Gladiators       ...                     3.0\n",
       "4          Boston Uprising       ...                     5.0\n",
       "5            Seoul Dynasty       ...                     NaN\n",
       "6      Philadelphia Fusion       ...                    14.0\n",
       "7          Houston Outlaws       ...                     NaN\n",
       "8      San Francisco Shock       ...                     NaN\n",
       "9              Dallas Fuel       ...                     NaN\n",
       "10          Florida Mayhem       ...                     NaN\n",
       "11        Shanghai Dragons       ...                     NaN\n",
       "\n",
       "[12 rows x 5 columns]"
      ]
     },
     "execution_count": 18,
     "metadata": {},
     "output_type": "execute_result"
    }
   ],
   "source": [
    "\"\"\"\n",
    "For our original batch of teams, only the top performing survived\n",
    "into the playoff season. We have made the very naive assumption that\n",
    "the best regular season teams would become the best post-season teams.\n",
    "\n",
    "This has turned out to be only partially true. The teams with the most wins\n",
    "in the regular season (Excelsior, Valiant, Gladiators) were quickly removed \n",
    "from the playoffs.\n",
    "\n",
    "Teams with high ELO standings, but low wins, (Fusion) ultimately had 14 wins in the playoffs \n",
    "and ended up making it to 2nd place overall.\n",
    "\"\"\"\n",
    "\n",
    "wins = pd.merge(wins,playoff_wins, on=['Win'], how = 'left')\n",
    "wins.head(20)"
   ]
  },
  {
   "cell_type": "code",
   "execution_count": 19,
   "metadata": {
    "_uuid": "d73510a90fabf72de8b607ed71fe56f18a722518"
   },
   "outputs": [
    {
     "data": {
      "text/html": [
       "<div>\n",
       "<style scoped>\n",
       "    .dataframe tbody tr th:only-of-type {\n",
       "        vertical-align: middle;\n",
       "    }\n",
       "\n",
       "    .dataframe tbody tr th {\n",
       "        vertical-align: top;\n",
       "    }\n",
       "\n",
       "    .dataframe thead th {\n",
       "        text-align: right;\n",
       "    }\n",
       "</style>\n",
       "<table border=\"1\" class=\"dataframe\">\n",
       "  <thead>\n",
       "    <tr style=\"text-align: right;\">\n",
       "      <th></th>\n",
       "      <th>win_index</th>\n",
       "      <th>lose_index</th>\n",
       "    </tr>\n",
       "  </thead>\n",
       "  <tbody>\n",
       "    <tr>\n",
       "      <th>0</th>\n",
       "      <td>11</td>\n",
       "      <td>9</td>\n",
       "    </tr>\n",
       "    <tr>\n",
       "      <th>1</th>\n",
       "      <td>11</td>\n",
       "      <td>9</td>\n",
       "    </tr>\n",
       "    <tr>\n",
       "      <th>2</th>\n",
       "      <td>11</td>\n",
       "      <td>9</td>\n",
       "    </tr>\n",
       "    <tr>\n",
       "      <th>3</th>\n",
       "      <td>11</td>\n",
       "      <td>9</td>\n",
       "    </tr>\n",
       "    <tr>\n",
       "      <th>4</th>\n",
       "      <td>11</td>\n",
       "      <td>9</td>\n",
       "    </tr>\n",
       "  </tbody>\n",
       "</table>\n",
       "</div>"
      ],
      "text/plain": [
       "   win_index  lose_index\n",
       "0         11           9\n",
       "1         11           9\n",
       "2         11           9\n",
       "3         11           9\n",
       "4         11           9"
      ]
     },
     "execution_count": 19,
     "metadata": {},
     "output_type": "execute_result"
    }
   ],
   "source": [
    "playoffs = pd.merge(playoffs,\\\n",
    "                    teams.rename(index=str,\\\n",
    "                    columns={\"team\": \"Win\", \"index\": \"win_index\"}),\n",
    "                    on = ['Win'] )\n",
    "\n",
    "playoffs = pd.merge(playoffs,\\\n",
    "                    teams.rename(index=str,\\\n",
    "                    columns={\"team\": \"Lose\", \"index\": \"lose_index\"}),\n",
    "                    on = ['Lose'] )\n",
    "\n",
    "playoffs = playoffs.drop(['Win','Lose','Playoff_Success'], axis=1)\n",
    "\n",
    "playoffs.head(5)"
   ]
  },
  {
   "cell_type": "code",
   "execution_count": 20,
   "metadata": {
    "_uuid": "43263b57c3c1e69ff0c10c5363005c616963ab9d",
    "scrolled": false
   },
   "outputs": [
    {
     "name": "stderr",
     "output_type": "stream",
     "text": [
      "/opt/conda/lib/python3.6/site-packages/ipykernel_launcher.py:3: SettingWithCopyWarning: \n",
      "A value is trying to be set on a copy of a slice from a DataFrame.\n",
      "Try using .loc[row_indexer,col_indexer] = value instead\n",
      "\n",
      "See the caveats in the documentation: http://pandas.pydata.org/pandas-docs/stable/indexing.html#indexing-view-versus-copy\n",
      "  This is separate from the ipykernel package so we can avoid doing imports until\n",
      "100%|██████████| 2000/2000 [00:22<00:00, 88.12it/s]\n",
      "  2%|▏         | 11/500 [00:00<00:04, 101.86it/s]"
     ]
    },
    {
     "name": "stdout",
     "output_type": "stream",
     "text": [
      "Batch AUC:  0 0.1\n"
     ]
    },
    {
     "name": "stderr",
     "output_type": "stream",
     "text": [
      "100%|██████████| 500/500 [00:05<00:00, 91.82it/s]\n",
      "  1%|          | 11/2000 [00:00<00:19, 100.76it/s]"
     ]
    },
    {
     "name": "stdout",
     "output_type": "stream",
     "text": [
      "   win_index  lose_index  Success  predictions\n",
      "0         11           9      1.0        0.508\n",
      "6          9          11      0.0        0.534\n",
      "6         11           9      1.0        0.454\n",
      "5         11           9      1.0        0.524\n",
      "9         11           8      1.0        0.394\n",
      "3         11           9      1.0        0.438\n",
      "8          8          11      0.0        0.624\n",
      "9          8          11      0.0        0.642\n",
      "4          9          11      0.0        0.514\n",
      "5          9          11      0.0        0.496\n",
      "7          8          11      0.0        0.586\n",
      "7         11           8      1.0        0.342\n",
      "2         11           9      1.0        0.450\n",
      "1          9          11      0.0        0.484\n",
      "1         11           9      1.0        0.490\n",
      "4         11           9      1.0        0.484\n",
      "0          9          11      0.0        0.558\n",
      "2          9          11      0.0        0.476\n",
      "3          9          11      0.0        0.518\n",
      "8         11           8      1.0        0.344\n"
     ]
    },
    {
     "name": "stderr",
     "output_type": "stream",
     "text": [
      "100%|██████████| 2000/2000 [00:22<00:00, 89.58it/s]\n",
      "  2%|▏         | 11/500 [00:00<00:04, 105.62it/s]"
     ]
    },
    {
     "name": "stdout",
     "output_type": "stream",
     "text": [
      "Batch AUC:  10 0.15\n"
     ]
    },
    {
     "name": "stderr",
     "output_type": "stream",
     "text": [
      "100%|██████████| 500/500 [00:05<00:00, 94.18it/s] \n",
      "  1%|          | 11/2000 [00:00<00:19, 102.88it/s]"
     ]
    },
    {
     "name": "stdout",
     "output_type": "stream",
     "text": [
      "    win_index  lose_index  Success  predictions\n",
      "11          8          11      0.0        0.612\n",
      "12          8          11      0.0        0.626\n",
      "15          4           5      1.0        0.428\n",
      "14          5           4      0.0        0.526\n",
      "18          9          11      1.0        0.522\n",
      "19          9          11      1.0        0.488\n",
      "10          8          11      0.0        0.676\n",
      "18         11           9      0.0        0.504\n",
      "15          5           4      0.0        0.532\n",
      "16          5           4      0.0        0.512\n",
      "19         11           9      0.0        0.498\n",
      "16          4           5      1.0        0.490\n",
      "17          5           2      0.0        0.502\n",
      "12         11           8      1.0        0.350\n",
      "14          4           5      1.0        0.508\n",
      "11         11           8      1.0        0.384\n",
      "17          2           5      1.0        0.524\n",
      "13         11           5      1.0        0.462\n",
      "10         11           8      1.0        0.360\n",
      "13          5          11      0.0        0.524\n"
     ]
    },
    {
     "name": "stderr",
     "output_type": "stream",
     "text": [
      "100%|██████████| 2000/2000 [00:21<00:00, 92.56it/s]\n",
      "  2%|▏         | 11/500 [00:00<00:04, 107.08it/s]"
     ]
    },
    {
     "name": "stdout",
     "output_type": "stream",
     "text": [
      "Batch AUC:  20 0.95\n"
     ]
    },
    {
     "name": "stderr",
     "output_type": "stream",
     "text": [
      "100%|██████████| 500/500 [00:05<00:00, 92.53it/s]\n",
      "  0%|          | 10/2000 [00:00<00:20, 97.51it/s]"
     ]
    },
    {
     "name": "stdout",
     "output_type": "stream",
     "text": [
      "    win_index  lose_index  Success  predictions\n",
      "22         11           9      0.0        0.446\n",
      "27          5          11      1.0        0.560\n",
      "21          9          11      1.0        0.484\n",
      "28         11           5      0.0        0.446\n",
      "29         11           8      0.0        0.350\n",
      "21         11           9      0.0        0.496\n",
      "28          5          11      1.0        0.534\n",
      "22          9          11      1.0        0.486\n",
      "25          5          11      1.0        0.536\n",
      "20         11           9      0.0        0.482\n",
      "24         11           5      0.0        0.430\n",
      "20          9          11      1.0        0.494\n",
      "23         11           5      0.0        0.438\n",
      "23          5          11      1.0        0.564\n",
      "27         11           5      0.0        0.486\n",
      "29          8          11      1.0        0.678\n",
      "24          5          11      1.0        0.548\n",
      "25         11           5      0.0        0.476\n",
      "26          5          11      1.0        0.546\n",
      "26         11           5      0.0        0.482\n"
     ]
    },
    {
     "name": "stderr",
     "output_type": "stream",
     "text": [
      "100%|██████████| 2000/2000 [00:23<00:00, 84.46it/s]\n",
      "  2%|▏         | 10/500 [00:00<00:04, 99.06it/s]"
     ]
    },
    {
     "name": "stdout",
     "output_type": "stream",
     "text": [
      "Batch AUC:  30 0.75\n"
     ]
    },
    {
     "name": "stderr",
     "output_type": "stream",
     "text": [
      "100%|██████████| 500/500 [00:05<00:00, 92.19it/s] \n",
      "  1%|          | 11/2000 [00:00<00:19, 102.96it/s]"
     ]
    },
    {
     "name": "stdout",
     "output_type": "stream",
     "text": [
      "    win_index  lose_index  Success  predictions\n",
      "30         11           8      0.0        0.388\n",
      "33          5           4      1.0        0.512\n",
      "31          4           5      0.0        0.462\n",
      "37          2           5      0.0        0.538\n",
      "35          5           4      1.0        0.524\n",
      "39          2           5      0.0        0.538\n",
      "36          5           4      1.0        0.494\n",
      "34          4           5      0.0        0.462\n",
      "31          5           4      1.0        0.538\n",
      "38          2           5      0.0        0.492\n",
      "37          5           2      1.0        0.462\n",
      "36          4           5      0.0        0.486\n",
      "32          4           5      0.0        0.472\n",
      "33          4           5      0.0        0.458\n",
      "35          4           5      0.0        0.496\n",
      "38          5           2      1.0        0.490\n",
      "34          5           4      1.0        0.524\n",
      "30          8          11      1.0        0.630\n",
      "39          5           2      1.0        0.470\n",
      "32          5           4      1.0        0.526\n"
     ]
    },
    {
     "name": "stderr",
     "output_type": "stream",
     "text": [
      "100%|██████████| 2000/2000 [00:21<00:00, 91.53it/s]\n",
      "  2%|▏         | 11/500 [00:00<00:04, 107.23it/s]"
     ]
    },
    {
     "name": "stdout",
     "output_type": "stream",
     "text": [
      "Batch AUC:  40 0.16666666666666666\n"
     ]
    },
    {
     "name": "stderr",
     "output_type": "stream",
     "text": [
      "100%|██████████| 500/500 [00:05<00:00, 93.68it/s]"
     ]
    },
    {
     "name": "stdout",
     "output_type": "stream",
     "text": [
      "    win_index  lose_index  Success  predictions\n",
      "40          2           5      0.0        0.486\n",
      "42          2           5      0.0        0.498\n",
      "41          2           5      0.0        0.526\n",
      "42          5           2      1.0        0.492\n",
      "41          5           2      1.0        0.480\n",
      "40          5           2      1.0        0.488\n"
     ]
    },
    {
     "name": "stderr",
     "output_type": "stream",
     "text": [
      "\n"
     ]
    }
   ],
   "source": [
    "\"\"\"\n",
    "THIS seems backwards. Bad teams are winning?\n",
    "\"\"\"\n",
    "\n",
    "for i in range(0,playoffs.count()[0],10):\n",
    "    sample = playoffs.iloc[i:i+10]\n",
    "    batch = build_training_df(sample,add_losses=True)\n",
    "    batch = batch.sample(frac=1.0)\n",
    "    winner_index.set_value(np.array(batch['win_index']))\n",
    "    loser_index.set_value(np.array(batch['lose_index']))\n",
    "    model_output.set_value(np.array(batch['Success']))\n",
    "    \n",
    "    print (\"Batch AUC: \",i, scoreModel(trace,batch['Success'],elo) )\n",
    "    batch['predictions']=make_preds(trace,elo)\n",
    "    print (batch.head(20))"
   ]
  },
  {
   "cell_type": "code",
   "execution_count": 21,
   "metadata": {
    "_uuid": "aef3d5f6f4ae5a852055d5380ec20dec4c0612e7"
   },
   "outputs": [
    {
     "name": "stderr",
     "output_type": "stream",
     "text": [
      "100%|██████████| 500/500 [00:05<00:00, 90.44it/s] \n"
     ]
    }
   ],
   "source": [
    "X_test = build_training_df(playoffs,add_losses=True)\n",
    "winner_index.set_value(np.array(X_test['win_index']))\n",
    "loser_index.set_value(np.array(X_test['lose_index']))\n",
    "model_output.set_value(np.array(X_test['Success']))\n",
    "X_test['preds'] = make_preds(trace,elo)\n",
    "X_test['prediction'] = [round(x) for x in X_test['preds'].values ]"
   ]
  },
  {
   "cell_type": "code",
   "execution_count": 22,
   "metadata": {
    "_uuid": "185f80607c87767d8b4fd735ea60b74bf8c2d839"
   },
   "outputs": [
    {
     "data": {
      "text/plain": [
       "0.5116279069767442"
      ]
     },
     "execution_count": 22,
     "metadata": {},
     "output_type": "execute_result"
    }
   ],
   "source": [
    "accuracy_score(X_test['Success'], X_test['prediction'])"
   ]
  },
  {
   "cell_type": "code",
   "execution_count": 23,
   "metadata": {
    "_uuid": "f9a5d129a6fc6d3b0039db91db209729da94c015"
   },
   "outputs": [
    {
     "data": {
      "text/html": [
       "<div>\n",
       "<style scoped>\n",
       "    .dataframe tbody tr th:only-of-type {\n",
       "        vertical-align: middle;\n",
       "    }\n",
       "\n",
       "    .dataframe tbody tr th {\n",
       "        vertical-align: top;\n",
       "    }\n",
       "\n",
       "    .dataframe thead th {\n",
       "        text-align: right;\n",
       "    }\n",
       "</style>\n",
       "<table border=\"1\" class=\"dataframe\">\n",
       "  <thead>\n",
       "    <tr style=\"text-align: right;\">\n",
       "      <th></th>\n",
       "      <th>win_index</th>\n",
       "      <th>lose_index</th>\n",
       "      <th>Success</th>\n",
       "      <th>preds</th>\n",
       "      <th>prediction</th>\n",
       "    </tr>\n",
       "  </thead>\n",
       "  <tbody>\n",
       "    <tr>\n",
       "      <th>38</th>\n",
       "      <td>2</td>\n",
       "      <td>5</td>\n",
       "      <td>0.0</td>\n",
       "      <td>0.522</td>\n",
       "      <td>1.0</td>\n",
       "    </tr>\n",
       "    <tr>\n",
       "      <th>39</th>\n",
       "      <td>2</td>\n",
       "      <td>5</td>\n",
       "      <td>0.0</td>\n",
       "      <td>0.498</td>\n",
       "      <td>0.0</td>\n",
       "    </tr>\n",
       "    <tr>\n",
       "      <th>40</th>\n",
       "      <td>2</td>\n",
       "      <td>5</td>\n",
       "      <td>0.0</td>\n",
       "      <td>0.520</td>\n",
       "      <td>1.0</td>\n",
       "    </tr>\n",
       "    <tr>\n",
       "      <th>41</th>\n",
       "      <td>2</td>\n",
       "      <td>5</td>\n",
       "      <td>0.0</td>\n",
       "      <td>0.496</td>\n",
       "      <td>0.0</td>\n",
       "    </tr>\n",
       "    <tr>\n",
       "      <th>42</th>\n",
       "      <td>2</td>\n",
       "      <td>5</td>\n",
       "      <td>0.0</td>\n",
       "      <td>0.492</td>\n",
       "      <td>0.0</td>\n",
       "    </tr>\n",
       "  </tbody>\n",
       "</table>\n",
       "</div>"
      ],
      "text/plain": [
       "    win_index  lose_index  Success  preds  prediction\n",
       "38          2           5      0.0  0.522         1.0\n",
       "39          2           5      0.0  0.498         0.0\n",
       "40          2           5      0.0  0.520         1.0\n",
       "41          2           5      0.0  0.496         0.0\n",
       "42          2           5      0.0  0.492         0.0"
      ]
     },
     "execution_count": 23,
     "metadata": {},
     "output_type": "execute_result"
    }
   ],
   "source": [
    "X_test.tail()"
   ]
  },
  {
   "cell_type": "code",
   "execution_count": 24,
   "metadata": {
    "_uuid": "b067e1d6f75066cb90f916754aa429bda3fb3f30"
   },
   "outputs": [
    {
     "data": {
      "text/html": [
       "<div>\n",
       "<style scoped>\n",
       "    .dataframe tbody tr th:only-of-type {\n",
       "        vertical-align: middle;\n",
       "    }\n",
       "\n",
       "    .dataframe tbody tr th {\n",
       "        vertical-align: top;\n",
       "    }\n",
       "\n",
       "    .dataframe thead th {\n",
       "        text-align: right;\n",
       "    }\n",
       "</style>\n",
       "<table border=\"1\" class=\"dataframe\">\n",
       "  <thead>\n",
       "    <tr style=\"text-align: right;\">\n",
       "      <th></th>\n",
       "      <th>win_index</th>\n",
       "      <th>lose_index</th>\n",
       "      <th>Success</th>\n",
       "      <th>preds</th>\n",
       "      <th>prediction</th>\n",
       "      <th>Elo_Win</th>\n",
       "      <th>Elo_Lose</th>\n",
       "    </tr>\n",
       "  </thead>\n",
       "  <tbody>\n",
       "    <tr>\n",
       "      <th>81</th>\n",
       "      <td>5</td>\n",
       "      <td>2</td>\n",
       "      <td>1.0</td>\n",
       "      <td>0.464</td>\n",
       "      <td>0.0</td>\n",
       "      <td>2050.433952</td>\n",
       "      <td>2057.36713</td>\n",
       "    </tr>\n",
       "    <tr>\n",
       "      <th>82</th>\n",
       "      <td>5</td>\n",
       "      <td>2</td>\n",
       "      <td>1.0</td>\n",
       "      <td>0.452</td>\n",
       "      <td>0.0</td>\n",
       "      <td>2050.433952</td>\n",
       "      <td>2057.36713</td>\n",
       "    </tr>\n",
       "    <tr>\n",
       "      <th>83</th>\n",
       "      <td>5</td>\n",
       "      <td>2</td>\n",
       "      <td>1.0</td>\n",
       "      <td>0.506</td>\n",
       "      <td>1.0</td>\n",
       "      <td>2050.433952</td>\n",
       "      <td>2057.36713</td>\n",
       "    </tr>\n",
       "    <tr>\n",
       "      <th>84</th>\n",
       "      <td>5</td>\n",
       "      <td>2</td>\n",
       "      <td>1.0</td>\n",
       "      <td>0.478</td>\n",
       "      <td>0.0</td>\n",
       "      <td>2050.433952</td>\n",
       "      <td>2057.36713</td>\n",
       "    </tr>\n",
       "    <tr>\n",
       "      <th>85</th>\n",
       "      <td>5</td>\n",
       "      <td>2</td>\n",
       "      <td>0.0</td>\n",
       "      <td>0.478</td>\n",
       "      <td>0.0</td>\n",
       "      <td>2050.433952</td>\n",
       "      <td>2057.36713</td>\n",
       "    </tr>\n",
       "  </tbody>\n",
       "</table>\n",
       "</div>"
      ],
      "text/plain": [
       "    win_index  lose_index     ...          Elo_Win    Elo_Lose\n",
       "81          5           2     ...      2050.433952  2057.36713\n",
       "82          5           2     ...      2050.433952  2057.36713\n",
       "83          5           2     ...      2050.433952  2057.36713\n",
       "84          5           2     ...      2050.433952  2057.36713\n",
       "85          5           2     ...      2050.433952  2057.36713\n",
       "\n",
       "[5 rows x 7 columns]"
      ]
     },
     "execution_count": 24,
     "metadata": {},
     "output_type": "execute_result"
    }
   ],
   "source": [
    "X_test = pd.merge(X_test,\\\n",
    "                    wins[['win_index','Elo']],\n",
    "                    on = ['win_index'],how='inner')\n",
    "X_test = X_test.rename(index=str,\\\n",
    "                    columns={\"Elo\": \"Elo_Win\"})\n",
    "\n",
    "X_test = pd.merge(X_test,\\\n",
    "                    wins[['win_index','Elo']].rename(index=str,\\\n",
    "                       columns={\"win_index\": \"lose_index\"}),\n",
    "                    on = ['lose_index'],how='inner')\n",
    "X_test = X_test.rename(index=str,\\\n",
    "                    columns={\"Elo\": \"Elo_Lose\"})\n",
    "X_test.tail()"
   ]
  },
  {
   "cell_type": "code",
   "execution_count": 25,
   "metadata": {
    "_uuid": "b61ae5ca325efcc4a530690f2730fc0f5f6cd5f0"
   },
   "outputs": [
    {
     "data": {
      "text/html": [
       "<div>\n",
       "<style scoped>\n",
       "    .dataframe tbody tr th:only-of-type {\n",
       "        vertical-align: middle;\n",
       "    }\n",
       "\n",
       "    .dataframe tbody tr th {\n",
       "        vertical-align: top;\n",
       "    }\n",
       "\n",
       "    .dataframe thead th {\n",
       "        text-align: right;\n",
       "    }\n",
       "</style>\n",
       "<table border=\"1\" class=\"dataframe\">\n",
       "  <thead>\n",
       "    <tr style=\"text-align: right;\">\n",
       "      <th></th>\n",
       "      <th>win_index</th>\n",
       "      <th>lose_index</th>\n",
       "      <th>Success</th>\n",
       "      <th>preds</th>\n",
       "      <th>prediction</th>\n",
       "      <th>Elo_Win</th>\n",
       "      <th>Elo_Lose</th>\n",
       "      <th>raw_expected</th>\n",
       "    </tr>\n",
       "  </thead>\n",
       "  <tbody>\n",
       "    <tr>\n",
       "      <th>81</th>\n",
       "      <td>5</td>\n",
       "      <td>2</td>\n",
       "      <td>1.0</td>\n",
       "      <td>0.464</td>\n",
       "      <td>0.0</td>\n",
       "      <td>2050.433952</td>\n",
       "      <td>2057.36713</td>\n",
       "      <td>0.490024</td>\n",
       "    </tr>\n",
       "    <tr>\n",
       "      <th>82</th>\n",
       "      <td>5</td>\n",
       "      <td>2</td>\n",
       "      <td>1.0</td>\n",
       "      <td>0.452</td>\n",
       "      <td>0.0</td>\n",
       "      <td>2050.433952</td>\n",
       "      <td>2057.36713</td>\n",
       "      <td>0.490024</td>\n",
       "    </tr>\n",
       "    <tr>\n",
       "      <th>83</th>\n",
       "      <td>5</td>\n",
       "      <td>2</td>\n",
       "      <td>1.0</td>\n",
       "      <td>0.506</td>\n",
       "      <td>1.0</td>\n",
       "      <td>2050.433952</td>\n",
       "      <td>2057.36713</td>\n",
       "      <td>0.490024</td>\n",
       "    </tr>\n",
       "    <tr>\n",
       "      <th>84</th>\n",
       "      <td>5</td>\n",
       "      <td>2</td>\n",
       "      <td>1.0</td>\n",
       "      <td>0.478</td>\n",
       "      <td>0.0</td>\n",
       "      <td>2050.433952</td>\n",
       "      <td>2057.36713</td>\n",
       "      <td>0.490024</td>\n",
       "    </tr>\n",
       "    <tr>\n",
       "      <th>85</th>\n",
       "      <td>5</td>\n",
       "      <td>2</td>\n",
       "      <td>0.0</td>\n",
       "      <td>0.478</td>\n",
       "      <td>0.0</td>\n",
       "      <td>2050.433952</td>\n",
       "      <td>2057.36713</td>\n",
       "      <td>0.490024</td>\n",
       "    </tr>\n",
       "  </tbody>\n",
       "</table>\n",
       "</div>"
      ],
      "text/plain": [
       "    win_index  lose_index      ...         Elo_Lose  raw_expected\n",
       "81          5           2      ...       2057.36713      0.490024\n",
       "82          5           2      ...       2057.36713      0.490024\n",
       "83          5           2      ...       2057.36713      0.490024\n",
       "84          5           2      ...       2057.36713      0.490024\n",
       "85          5           2      ...       2057.36713      0.490024\n",
       "\n",
       "[5 rows x 8 columns]"
      ]
     },
     "execution_count": 25,
     "metadata": {},
     "output_type": "execute_result"
    }
   ],
   "source": [
    "X_test['raw_expected'] = Expected(X_test['Elo_Win'],X_test['Elo_Lose'])\n",
    "X_test.tail()"
   ]
  },
  {
   "cell_type": "code",
   "execution_count": 26,
   "metadata": {
    "_uuid": "9267fbdb7a11be98e48370a7cbb8587bd654b99c"
   },
   "outputs": [
    {
     "data": {
      "text/plain": [
       "0.5154137371552191"
      ]
     },
     "execution_count": 26,
     "metadata": {},
     "output_type": "execute_result"
    }
   ],
   "source": [
    "roc_auc_score(X_test['Success'], X_test['raw_expected'])"
   ]
  },
  {
   "cell_type": "code",
   "execution_count": 27,
   "metadata": {
    "_uuid": "33b74a09978c2b877e77a743c72c7d86b1b3393b"
   },
   "outputs": [],
   "source": []
  }
 ],
 "metadata": {
  "kernelspec": {
   "display_name": "Python 3",
   "language": "python",
   "name": "python3"
  },
  "language_info": {
   "codemirror_mode": {
    "name": "ipython",
    "version": 3
   },
   "file_extension": ".py",
   "mimetype": "text/x-python",
   "name": "python",
   "nbconvert_exporter": "python",
   "pygments_lexer": "ipython3",
   "version": "3.6.6"
  }
 },
 "nbformat": 4,
 "nbformat_minor": 1
}
